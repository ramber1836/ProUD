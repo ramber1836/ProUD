{
 "cells": [
  {
   "cell_type": "code",
   "execution_count": 1,
   "metadata": {},
   "outputs": [],
   "source": [
    "from __future__ import print_function\n",
    "import numpy as np\n",
    "import tensorflow as tf\n",
    "import os\n",
    "\n",
    "os.environ[\"CUDA_VISIBLE_DEVICES\"] = '0'\n",
    "gpu_options = tf.GPUOptions(per_process_gpu_memory_fraction=0.1)"
   ]
  },
  {
   "cell_type": "code",
   "execution_count": 11,
   "metadata": {},
   "outputs": [
    {
     "name": "stdout",
     "output_type": "stream",
     "text": [
      "a= [[1. 1.]\n",
      " [2. 3.]]\n",
      "b= [[2. 2.]\n",
      " [4. 5.]]\n",
      "norm= [1.4142135 2.828427 ]\n",
      "keep_norm= [[1.4142135]\n",
      " [2.828427 ]]\n"
     ]
    }
   ],
   "source": [
    "tf.reset_default_graph()\n",
    "a = tf.constant([[1, 1], [2, 3]], dtype=tf.float32)\n",
    "b = tf.constant([[2, 2], [4, 5]], dtype=tf.float32)\n",
    "norm = tf.norm(a-b, ord='euclidean', axis=-1, keep_dims=False)\n",
    "keep_norm = tf.norm(a-b, ord='euclidean', axis=-1, keep_dims=True)\n",
    "\n",
    "with tf.Session(config=tf.ConfigProto(gpu_options=gpu_options)) as sess:\n",
    "    sess.run(tf.global_variables_initializer())\n",
    "    va, vb, vnorm, vkeep_norm = sess.run([a, b, norm, keep_norm])\n",
    "    print('a=', va)\n",
    "    print('b=', vb)\n",
    "    print('norm=', vnorm)\n",
    "    print('keep_norm=', vkeep_norm)"
   ]
  },
  {
   "cell_type": "code",
   "execution_count": 32,
   "metadata": {},
   "outputs": [
    {
     "name": "stdout",
     "output_type": "stream",
     "text": [
      "[0 0 1 0 1 2 0 1 2 3 0 1 2 3 4 0 1 2 3 4 5 0 1 2 3 4 5 6 0 1 2 3 4 5 6 7 0\n",
      " 1 2 3 4 5 6 7 8]\n"
     ]
    }
   ],
   "source": [
    "ls = []\n",
    "for n in range(1, 10):\n",
    "    ls.append(np.arange(n))\n",
    "print(np.concatenate(ls))"
   ]
  },
  {
   "cell_type": "code",
   "execution_count": 34,
   "metadata": {},
   "outputs": [
    {
     "name": "stdout",
     "output_type": "stream",
     "text": [
      "[False False False  True]\n",
      "0.75\n",
      "(1.0, 0.5, 0.6666666666666666, None)\n"
     ]
    }
   ],
   "source": [
    "from sklearn.metrics import roc_auc_score, precision_recall_fscore_support\n",
    "y_true = np.array([0., 0., 1., 1.])\n",
    "y_scores = np.array([0.1, 0.4, 0.35, 0.8])\n",
    "y_label = np.greater_equal(y_scores, 0.5)\n",
    "print(y_label)\n",
    "print(roc_auc_score(y_true, y_scores))\n",
    "print(precision_recall_fscore_support(y_true, y_label, average='binary'))"
   ]
  },
  {
   "cell_type": "code",
   "execution_count": null,
   "metadata": {},
   "outputs": [],
   "source": []
  }
 ],
 "metadata": {
  "kernelspec": {
   "display_name": "Python 2",
   "language": "python",
   "name": "python2"
  },
  "language_info": {
   "codemirror_mode": {
    "name": "ipython",
    "version": 2
   },
   "file_extension": ".py",
   "mimetype": "text/x-python",
   "name": "python",
   "nbconvert_exporter": "python",
   "pygments_lexer": "ipython2",
   "version": "2.7.14"
  }
 },
 "nbformat": 4,
 "nbformat_minor": 2
}
